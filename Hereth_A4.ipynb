{
  "nbformat": 4,
  "nbformat_minor": 0,
  "metadata": {
    "kernelspec": {
      "display_name": "Python 3",
      "language": "python",
      "name": "python3"
    },
    "language_info": {
      "codemirror_mode": {
        "name": "ipython",
        "version": 3
      },
      "file_extension": ".py",
      "mimetype": "text/x-python",
      "name": "python",
      "nbconvert_exporter": "python",
      "pygments_lexer": "ipython3",
      "version": "3.7.4"
    },
    "colab": {
      "name": "Hereth-A4.ipynb",
      "provenance": [],
      "collapsed_sections": []
    }
  },
  "cells": [
    {
      "cell_type": "markdown",
      "metadata": {
        "id": "Kuz-KdpXrQpr"
      },
      "source": [
        "# <font color=\"blue\"> Classification and Regression</font>"
      ]
    },
    {
      "cell_type": "markdown",
      "metadata": {
        "id": "ApbVzKrorQpt"
      },
      "source": [
        "Adam Hereth"
      ]
    },
    {
      "cell_type": "markdown",
      "metadata": {
        "id": "hqixifyerQpu"
      },
      "source": [
      ]
    },
    {
      "cell_type": "markdown",
      "metadata": {
        "id": "2DyHFuytrQpv"
      },
      "source": [
        "\n",
        "Building and comparing three classifiers applied on South African Heart Disease dataset from the book: [\"Elements of Statistical Learning\"](https://web.stanford.edu/~hastie/ElemStatLearn/) by T. Hastie, R. Tibshirani, and J. Friedman.\n",
        "\n",
        "According to [ReportLinker](https://www.reportlinker.com/p05251483/Global-AI-in-Healthcare-Market-Report-for.html), \"spending on this category is forecasted to jump from \\\\$2.1 billion to \\\\$36.1 billion by 2025. This is a 50.2% Compound Annual Growth Rate (CAGR).\"\n",
        "\n",
        "This assignment help with having a:\n",
        "- better understand classification and regression.\n",
        "\n",
        "- getting started with scikit-learn and its built-in methods, as well as implemented classification and regression models.\n",
        "\n",
        "- practice data preprocessing.\n",
        "\n",
        "- practice model evaluation using performance metrics and cross validation.\n",
        "\n",
        "- learn how to plot ROC curves."
      ]
    },
    {
      "cell_type": "markdown",
      "metadata": {
        "id": "dvjhigIirQpv"
      },
      "source": [
        "## Part I - Classification"
      ]
    },
    {
      "cell_type": "markdown",
      "metadata": {
        "id": "L1onxnHzrQpw"
      },
      "source": [
        "You are going to build three classifiers from sklearn to predict heart disease. First, download [the data](https://github.com/fereydoonvafaei/CMSC471-Spring2020/blob/master/Assignment-4/SAheart.csv) and save it in your working directory. Also, import necessary Python and sklearn modules."
      ]
    },
    {
      "cell_type": "code",
      "metadata": {
        "id": "8Z_BBPCErQpw",
        "cellView": "code"
      },
      "source": [
        "# Import necessary modules\n",
        "import pandas as pd\n",
        "\n",
        "from sklearn.model_selection import train_test_split\n",
        "\n",
        "from sklearn.linear_model import LogisticRegression\n",
        "from sklearn.svm import LinearSVC\n",
        "from sklearn.ensemble import RandomForestClassifier\n",
        "\n",
        "from sklearn.model_selection import cross_val_score\n",
        "import sklearn.metrics as metrics\n",
        "\n",
        "import matplotlib.pyplot as plt\n",
        "%matplotlib inline\n",
        "\n",
        "import warnings\n",
        "warnings.filterwarnings(\"ignore\")\n",
        "\n",
        "url = 'https://raw.githubusercontent.com/fereydoonvafaei/CMSC471-Spring2020/master/Assignment-4/SAheart.csv'\n",
        "df1 = pd.read_csv(url)\n",
        "# Dataset is now stored in a Pandas Dataframe"
      ],
      "execution_count": null,
      "outputs": []
    },
    {
      "cell_type": "markdown",
      "metadata": {
        "id": "gLf4OTWprQpz"
      },
      "source": [
        "## <font color=\"red\"> Required Coding"
      ]
    },
    {
      "cell_type": "markdown",
      "metadata": {
        "id": "25Nse139rQpz"
      },
      "source": [
        "> Next, load the data with pandas. The data (csv file) should be stored in the same working directory as your notebook."
      ]
    },
    {
      "cell_type": "code",
      "metadata": {
        "id": "bMbXwRTfrQp0"
      },
      "source": [
        "heart_data = df1"
      ],
      "execution_count": null,
      "outputs": []
    },
    {
      "cell_type": "code",
      "metadata": {
        "id": "q9ClI87zrQp4",
        "colab": {
          "base_uri": "https://localhost:8080/",
          "height": 221
        },
        "outputId": "9f78d18e-2a48-479f-ec4d-98439880f227"
      },
      "source": [
        "print(heart_data.shape)\n",
        "heart_data.head()"
      ],
      "execution_count": null,
      "outputs": [
        {
          "output_type": "stream",
          "text": [
            "(462, 11)\n"
          ],
          "name": "stdout"
        },
        {
          "output_type": "execute_result",
          "data": {
            "text/html": [
              "<div>\n",
              "<style scoped>\n",
              "    .dataframe tbody tr th:only-of-type {\n",
              "        vertical-align: middle;\n",
              "    }\n",
              "\n",
              "    .dataframe tbody tr th {\n",
              "        vertical-align: top;\n",
              "    }\n",
              "\n",
              "    .dataframe thead th {\n",
              "        text-align: right;\n",
              "    }\n",
              "</style>\n",
              "<table border=\"1\" class=\"dataframe\">\n",
              "  <thead>\n",
              "    <tr style=\"text-align: right;\">\n",
              "      <th></th>\n",
              "      <th>row.names</th>\n",
              "      <th>sbp</th>\n",
              "      <th>tobacco</th>\n",
              "      <th>ldl</th>\n",
              "      <th>adiposity</th>\n",
              "      <th>famhist</th>\n",
              "      <th>typea</th>\n",
              "      <th>obesity</th>\n",
              "      <th>alcohol</th>\n",
              "      <th>age</th>\n",
              "      <th>chd</th>\n",
              "    </tr>\n",
              "  </thead>\n",
              "  <tbody>\n",
              "    <tr>\n",
              "      <th>0</th>\n",
              "      <td>1</td>\n",
              "      <td>160</td>\n",
              "      <td>12.00</td>\n",
              "      <td>5.73</td>\n",
              "      <td>23.11</td>\n",
              "      <td>Present</td>\n",
              "      <td>49</td>\n",
              "      <td>25.30</td>\n",
              "      <td>97.20</td>\n",
              "      <td>52</td>\n",
              "      <td>1</td>\n",
              "    </tr>\n",
              "    <tr>\n",
              "      <th>1</th>\n",
              "      <td>2</td>\n",
              "      <td>144</td>\n",
              "      <td>0.01</td>\n",
              "      <td>4.41</td>\n",
              "      <td>28.61</td>\n",
              "      <td>Absent</td>\n",
              "      <td>55</td>\n",
              "      <td>28.87</td>\n",
              "      <td>2.06</td>\n",
              "      <td>63</td>\n",
              "      <td>1</td>\n",
              "    </tr>\n",
              "    <tr>\n",
              "      <th>2</th>\n",
              "      <td>3</td>\n",
              "      <td>118</td>\n",
              "      <td>0.08</td>\n",
              "      <td>3.48</td>\n",
              "      <td>32.28</td>\n",
              "      <td>Present</td>\n",
              "      <td>52</td>\n",
              "      <td>29.14</td>\n",
              "      <td>3.81</td>\n",
              "      <td>46</td>\n",
              "      <td>0</td>\n",
              "    </tr>\n",
              "    <tr>\n",
              "      <th>3</th>\n",
              "      <td>4</td>\n",
              "      <td>170</td>\n",
              "      <td>7.50</td>\n",
              "      <td>6.41</td>\n",
              "      <td>38.03</td>\n",
              "      <td>Present</td>\n",
              "      <td>51</td>\n",
              "      <td>31.99</td>\n",
              "      <td>24.26</td>\n",
              "      <td>58</td>\n",
              "      <td>1</td>\n",
              "    </tr>\n",
              "    <tr>\n",
              "      <th>4</th>\n",
              "      <td>5</td>\n",
              "      <td>134</td>\n",
              "      <td>13.60</td>\n",
              "      <td>3.50</td>\n",
              "      <td>27.78</td>\n",
              "      <td>Present</td>\n",
              "      <td>60</td>\n",
              "      <td>25.99</td>\n",
              "      <td>57.34</td>\n",
              "      <td>49</td>\n",
              "      <td>1</td>\n",
              "    </tr>\n",
              "  </tbody>\n",
              "</table>\n",
              "</div>"
            ],
            "text/plain": [
              "   row.names  sbp  tobacco   ldl  adiposity  ... typea  obesity  alcohol  age  chd\n",
              "0          1  160    12.00  5.73      23.11  ...    49    25.30    97.20   52    1\n",
              "1          2  144     0.01  4.41      28.61  ...    55    28.87     2.06   63    1\n",
              "2          3  118     0.08  3.48      32.28  ...    52    29.14     3.81   46    0\n",
              "3          4  170     7.50  6.41      38.03  ...    51    31.99    24.26   58    1\n",
              "4          5  134    13.60  3.50      27.78  ...    60    25.99    57.34   49    1\n",
              "\n",
              "[5 rows x 11 columns]"
            ]
          },
          "metadata": {
            "tags": []
          },
          "execution_count": 3
        }
      ]
    },
    {
      "cell_type": "markdown",
      "metadata": {
        "id": "cQk9P8YHrQp7"
      },
      "source": [
        "Some description about the features from the data source:"
      ]
    },
    {
      "cell_type": "markdown",
      "metadata": {
        "id": "6O8H1fP4rQp8"
      },
      "source": [
        "> \"A retrospective sample of males in a heart-disease high-risk region of the Western Cape, South Africa. There are roughly two controls per case of CHD. Many of the CHD positive men have undergone blood pressure reduction treatment and other programs to reduce their risk factors after their CHD event. In some cases the measurements were made after these treatments. These data are taken from a larger dataset, described in  Rousseauw et al, 1983, South African Medical Journal.\" \n",
        "\n",
        "        sbp\t        systolic blood pressure\n",
        "        tobacco\t\tcumulative tobacco (kg)\n",
        "        ldl\t\t    low densiity lipoprotein cholesterol\n",
        "        adiposity\n",
        "        famhist\t\tfamily history of heart disease (Present, Absent)\n",
        "        typea\t\t  type-A behavior\n",
        "        obesity\n",
        "        alcohol\t\tcurrent alcohol consumption\n",
        "        age\t\t    age at onset\n",
        "        chd\t\t    label, coronary heart disease\n"
      ]
    },
    {
      "cell_type": "code",
      "metadata": {
        "id": "1RP118oFrQp8",
        "colab": {
          "base_uri": "https://localhost:8080/",
          "height": 221
        },
        "outputId": "631bf6f1-6827-4027-a0c5-0dd33ee804a7"
      },
      "source": [
        "# The first column, row.names is useless for this ML task, drop it!\n",
        "\n",
        "heart_data.drop('row.names', axis=1, inplace=True)\n",
        "print(heart_data.shape)\n",
        "heart_data.head()"
      ],
      "execution_count": null,
      "outputs": [
        {
          "output_type": "stream",
          "text": [
            "(462, 10)\n"
          ],
          "name": "stdout"
        },
        {
          "output_type": "execute_result",
          "data": {
            "text/html": [
              "<div>\n",
              "<style scoped>\n",
              "    .dataframe tbody tr th:only-of-type {\n",
              "        vertical-align: middle;\n",
              "    }\n",
              "\n",
              "    .dataframe tbody tr th {\n",
              "        vertical-align: top;\n",
              "    }\n",
              "\n",
              "    .dataframe thead th {\n",
              "        text-align: right;\n",
              "    }\n",
              "</style>\n",
              "<table border=\"1\" class=\"dataframe\">\n",
              "  <thead>\n",
              "    <tr style=\"text-align: right;\">\n",
              "      <th></th>\n",
              "      <th>sbp</th>\n",
              "      <th>tobacco</th>\n",
              "      <th>ldl</th>\n",
              "      <th>adiposity</th>\n",
              "      <th>famhist</th>\n",
              "      <th>typea</th>\n",
              "      <th>obesity</th>\n",
              "      <th>alcohol</th>\n",
              "      <th>age</th>\n",
              "      <th>chd</th>\n",
              "    </tr>\n",
              "  </thead>\n",
              "  <tbody>\n",
              "    <tr>\n",
              "      <th>0</th>\n",
              "      <td>160</td>\n",
              "      <td>12.00</td>\n",
              "      <td>5.73</td>\n",
              "      <td>23.11</td>\n",
              "      <td>Present</td>\n",
              "      <td>49</td>\n",
              "      <td>25.30</td>\n",
              "      <td>97.20</td>\n",
              "      <td>52</td>\n",
              "      <td>1</td>\n",
              "    </tr>\n",
              "    <tr>\n",
              "      <th>1</th>\n",
              "      <td>144</td>\n",
              "      <td>0.01</td>\n",
              "      <td>4.41</td>\n",
              "      <td>28.61</td>\n",
              "      <td>Absent</td>\n",
              "      <td>55</td>\n",
              "      <td>28.87</td>\n",
              "      <td>2.06</td>\n",
              "      <td>63</td>\n",
              "      <td>1</td>\n",
              "    </tr>\n",
              "    <tr>\n",
              "      <th>2</th>\n",
              "      <td>118</td>\n",
              "      <td>0.08</td>\n",
              "      <td>3.48</td>\n",
              "      <td>32.28</td>\n",
              "      <td>Present</td>\n",
              "      <td>52</td>\n",
              "      <td>29.14</td>\n",
              "      <td>3.81</td>\n",
              "      <td>46</td>\n",
              "      <td>0</td>\n",
              "    </tr>\n",
              "    <tr>\n",
              "      <th>3</th>\n",
              "      <td>170</td>\n",
              "      <td>7.50</td>\n",
              "      <td>6.41</td>\n",
              "      <td>38.03</td>\n",
              "      <td>Present</td>\n",
              "      <td>51</td>\n",
              "      <td>31.99</td>\n",
              "      <td>24.26</td>\n",
              "      <td>58</td>\n",
              "      <td>1</td>\n",
              "    </tr>\n",
              "    <tr>\n",
              "      <th>4</th>\n",
              "      <td>134</td>\n",
              "      <td>13.60</td>\n",
              "      <td>3.50</td>\n",
              "      <td>27.78</td>\n",
              "      <td>Present</td>\n",
              "      <td>60</td>\n",
              "      <td>25.99</td>\n",
              "      <td>57.34</td>\n",
              "      <td>49</td>\n",
              "      <td>1</td>\n",
              "    </tr>\n",
              "  </tbody>\n",
              "</table>\n",
              "</div>"
            ],
            "text/plain": [
              "   sbp  tobacco   ldl  adiposity  famhist  typea  obesity  alcohol  age  chd\n",
              "0  160    12.00  5.73      23.11  Present     49    25.30    97.20   52    1\n",
              "1  144     0.01  4.41      28.61   Absent     55    28.87     2.06   63    1\n",
              "2  118     0.08  3.48      32.28  Present     52    29.14     3.81   46    0\n",
              "3  170     7.50  6.41      38.03  Present     51    31.99    24.26   58    1\n",
              "4  134    13.60  3.50      27.78  Present     60    25.99    57.34   49    1"
            ]
          },
          "metadata": {
            "tags": []
          },
          "execution_count": 4
        }
      ]
    },
    {
      "cell_type": "code",
      "metadata": {
        "id": "VwR9cVNSrQp_",
        "colab": {
          "base_uri": "https://localhost:8080/",
          "height": 204
        },
        "outputId": "a4bec82e-5bf4-453f-af57-a7368fc7ab3f"
      },
      "source": [
        "# Get the feature data types.\n",
        "heart_data.dtypes"
      ],
      "execution_count": null,
      "outputs": [
        {
          "output_type": "execute_result",
          "data": {
            "text/plain": [
              "sbp            int64\n",
              "tobacco      float64\n",
              "ldl          float64\n",
              "adiposity    float64\n",
              "famhist       object\n",
              "typea          int64\n",
              "obesity      float64\n",
              "alcohol      float64\n",
              "age            int64\n",
              "chd            int64\n",
              "dtype: object"
            ]
          },
          "metadata": {
            "tags": []
          },
          "execution_count": 5
        }
      ]
    },
    {
      "cell_type": "markdown",
      "metadata": {
        "id": "Tl5sHGIbrQqD"
      },
      "source": [
        "> Next, you need to convert `famhist` from categorical (Present/Absent) to numerical {0,1} for further processing in classifier."
      ]
    },
    {
      "cell_type": "code",
      "metadata": {
        "id": "hEdCWK-grQqE",
        "colab": {
          "base_uri": "https://localhost:8080/",
          "height": 221
        },
        "outputId": "e67fcb43-438d-46e0-81e7-48e82ce19d51"
      },
      "source": [
        " # Convert 'famhist' to pd.Categorical and then use .cat.codes to convert the values to [0,1] ~2 lines\n",
        "# Hint: There might be other ways to do this using pandas dataframe methods.\n",
        "# Make sure your output looks exactly like the dataframe head below, i.e. famhist values are converted to {0,1}.\n",
        "...\n",
        "heart_data.famhist.replace(('Present', 'Absent'), (0,1), inplace=True)\n",
        "print(heart_data.shape)\n",
        "heart_data.head()"
      ],
      "execution_count": null,
      "outputs": [
        {
          "output_type": "stream",
          "text": [
            "(462, 10)\n"
          ],
          "name": "stdout"
        },
        {
          "output_type": "execute_result",
          "data": {
            "text/html": [
              "<div>\n",
              "<style scoped>\n",
              "    .dataframe tbody tr th:only-of-type {\n",
              "        vertical-align: middle;\n",
              "    }\n",
              "\n",
              "    .dataframe tbody tr th {\n",
              "        vertical-align: top;\n",
              "    }\n",
              "\n",
              "    .dataframe thead th {\n",
              "        text-align: right;\n",
              "    }\n",
              "</style>\n",
              "<table border=\"1\" class=\"dataframe\">\n",
              "  <thead>\n",
              "    <tr style=\"text-align: right;\">\n",
              "      <th></th>\n",
              "      <th>sbp</th>\n",
              "      <th>tobacco</th>\n",
              "      <th>ldl</th>\n",
              "      <th>adiposity</th>\n",
              "      <th>famhist</th>\n",
              "      <th>typea</th>\n",
              "      <th>obesity</th>\n",
              "      <th>alcohol</th>\n",
              "      <th>age</th>\n",
              "      <th>chd</th>\n",
              "    </tr>\n",
              "  </thead>\n",
              "  <tbody>\n",
              "    <tr>\n",
              "      <th>0</th>\n",
              "      <td>160</td>\n",
              "      <td>12.00</td>\n",
              "      <td>5.73</td>\n",
              "      <td>23.11</td>\n",
              "      <td>0</td>\n",
              "      <td>49</td>\n",
              "      <td>25.30</td>\n",
              "      <td>97.20</td>\n",
              "      <td>52</td>\n",
              "      <td>1</td>\n",
              "    </tr>\n",
              "    <tr>\n",
              "      <th>1</th>\n",
              "      <td>144</td>\n",
              "      <td>0.01</td>\n",
              "      <td>4.41</td>\n",
              "      <td>28.61</td>\n",
              "      <td>1</td>\n",
              "      <td>55</td>\n",
              "      <td>28.87</td>\n",
              "      <td>2.06</td>\n",
              "      <td>63</td>\n",
              "      <td>1</td>\n",
              "    </tr>\n",
              "    <tr>\n",
              "      <th>2</th>\n",
              "      <td>118</td>\n",
              "      <td>0.08</td>\n",
              "      <td>3.48</td>\n",
              "      <td>32.28</td>\n",
              "      <td>0</td>\n",
              "      <td>52</td>\n",
              "      <td>29.14</td>\n",
              "      <td>3.81</td>\n",
              "      <td>46</td>\n",
              "      <td>0</td>\n",
              "    </tr>\n",
              "    <tr>\n",
              "      <th>3</th>\n",
              "      <td>170</td>\n",
              "      <td>7.50</td>\n",
              "      <td>6.41</td>\n",
              "      <td>38.03</td>\n",
              "      <td>0</td>\n",
              "      <td>51</td>\n",
              "      <td>31.99</td>\n",
              "      <td>24.26</td>\n",
              "      <td>58</td>\n",
              "      <td>1</td>\n",
              "    </tr>\n",
              "    <tr>\n",
              "      <th>4</th>\n",
              "      <td>134</td>\n",
              "      <td>13.60</td>\n",
              "      <td>3.50</td>\n",
              "      <td>27.78</td>\n",
              "      <td>0</td>\n",
              "      <td>60</td>\n",
              "      <td>25.99</td>\n",
              "      <td>57.34</td>\n",
              "      <td>49</td>\n",
              "      <td>1</td>\n",
              "    </tr>\n",
              "  </tbody>\n",
              "</table>\n",
              "</div>"
            ],
            "text/plain": [
              "   sbp  tobacco   ldl  adiposity  famhist  typea  obesity  alcohol  age  chd\n",
              "0  160    12.00  5.73      23.11        0     49    25.30    97.20   52    1\n",
              "1  144     0.01  4.41      28.61        1     55    28.87     2.06   63    1\n",
              "2  118     0.08  3.48      32.28        0     52    29.14     3.81   46    0\n",
              "3  170     7.50  6.41      38.03        0     51    31.99    24.26   58    1\n",
              "4  134    13.60  3.50      27.78        0     60    25.99    57.34   49    1"
            ]
          },
          "metadata": {
            "tags": []
          },
          "execution_count": 6
        }
      ]
    },
    {
      "cell_type": "code",
      "metadata": {
        "id": "pFszfb0GrQqH",
        "colab": {
          "base_uri": "https://localhost:8080/",
          "height": 34
        },
        "outputId": "ff6278ed-5cd9-4d5c-d5d6-d7535058d352"
      },
      "source": [
        "type(heart_data['famhist'][0])"
      ],
      "execution_count": null,
      "outputs": [
        {
          "output_type": "execute_result",
          "data": {
            "text/plain": [
              "numpy.int64"
            ]
          },
          "metadata": {
            "tags": []
          },
          "execution_count": 7
        }
      ]
    },
    {
      "cell_type": "code",
      "metadata": {
        "id": "ZPiyDTaFrQqL",
        "colab": {
          "base_uri": "https://localhost:8080/",
          "height": 51
        },
        "outputId": "6c33ff40-7b67-4546-8248-3498df39f73f"
      },
      "source": [
        "# Create X, y \n",
        "# Notice that X should contain all the features (columns) except 'chd'\n",
        "# y should only include 'chd' because it's the target label!\n",
        "X = heart_data.drop(columns = ['chd'])\n",
        "y = heart_data['chd']\n",
        "\n",
        "print(X.shape)\n",
        "print(y.shape)"
      ],
      "execution_count": null,
      "outputs": [
        {
          "output_type": "stream",
          "text": [
            "(462, 9)\n",
            "(462,)\n"
          ],
          "name": "stdout"
        }
      ]
    },
    {
      "cell_type": "markdown",
      "metadata": {
        "id": "HUfQd5horQqO"
      },
      "source": [
        "> Next, split the data with a test size of 0.33"
      ]
    },
    {
      "cell_type": "code",
      "metadata": {
        "id": "rmwgMSuYrQqO",
        "colab": {
          "base_uri": "https://localhost:8080/",
          "height": 85
        },
        "outputId": "45f4bc30-ee75-40a6-8f04-950e437ace8e"
      },
      "source": [
        "# Split the data to train and test using train_test_split method with test_size=0.33\n",
        "...\n",
        "X_train,X_test,y_train,y_test = train_test_split(X,y,test_size=0.33)\n",
        "print(X_train.shape)\n",
        "print(y_train.shape)\n",
        "print(X_test.shape)\n",
        "print(y_test.shape)"
      ],
      "execution_count": null,
      "outputs": [
        {
          "output_type": "stream",
          "text": [
            "(309, 9)\n",
            "(309,)\n",
            "(153, 9)\n",
            "(153,)\n"
          ],
          "name": "stdout"
        }
      ]
    },
    {
      "cell_type": "markdown",
      "metadata": {
        "id": "dpNmKCTGrQqS"
      },
      "source": [
        "> Next, build the classifiers.\n",
        "\n",
        "\n",
        "> **Required mean cv score**: You should get at least **0.75 mean cv score** for all three classifiers (0.75 would be the rounded value with two decimal points). You may begin with the default hyperparameter values; however, you should fine-tune them accordingly to satisfy the minimum mean cv score requirement.\n",
        "\n",
        "\n",
        "> You may check out scikit-learn documentations to see what hyperparameters are available for each classifier: [Logistic Regression](https://scikit-learn.org/stable/modules/generated/sklearn.linear_model.LogisticRegression.html), [Linear SVM](https://scikit-learn.org/stable/modules/generated/sklearn.svm.LinearSVC.html#sklearn.svm.LinearSVC), [Random Forest](https://scikit-learn.org/stable/modules/generated/sklearn.ensemble.RandomForestClassifier.html).\n",
        "\n",
        "> **Note:** Whenever you perform cross validation, you apply the method on the whole X, whereas when you use `.fit()` method, you apply it on X_train only."
      ]
    },
    {
      "cell_type": "code",
      "metadata": {
        "id": "LNATI_iirQqS",
        "colab": {
          "base_uri": "https://localhost:8080/",
          "height": 34
        },
        "outputId": "6cffda1e-d55d-4d4f-c7bb-6be95eb397e3"
      },
      "source": [
        "# Create a LogisticRegression with a 'liblinear' solver\n",
        "logreg_clf = LogisticRegression(random_state=1, solver='liblinear', multi_class=\"auto\", n_jobs=1, C=1)\n",
        "\n",
        "# Perform a 10-fold cross validation with scoring='roc_auc'\n",
        "# Hint: cross validation should be done on the whole X\n",
        "logreg_cv_score = cross_val_score(logreg_clf, X, y, cv=10, scoring='roc_auc')\n",
        "\n",
        "print(\"Mean CV Score - Logistic Regression: \", logreg_cv_score.mean())"
      ],
      "execution_count": null,
      "outputs": [
        {
          "output_type": "stream",
          "text": [
            "Mean CV Score - Logistic Regression:  0.7650604838709677\n"
          ],
          "name": "stdout"
        }
      ]
    },
    {
      "cell_type": "code",
      "metadata": {
        "id": "R7j2Z6MfrQqV",
        "colab": {
          "base_uri": "https://localhost:8080/",
          "height": 34
        },
        "outputId": "84dfe181-9f17-4d6f-eedc-4c74bf6ec5d7"
      },
      "source": [
        "# Create a Linear SVM Classifier using LinearSVC()\n",
        "svm_clf = LinearSVC(tol=1e-05, random_state=10)\n",
        "\n",
        "# Perform a 10-fold cross validation with scoring='roc_auc'\n",
        "svm_cv_score = cross_val_score(svm_clf, X, y, cv=10, scoring='roc_auc')\n",
        "\n",
        "print(\"Mean CV Score - Linear SVM: \", svm_cv_score.mean())"
      ],
      "execution_count": null,
      "outputs": [
        {
          "output_type": "stream",
          "text": [
            "Mean CV Score - Linear SVM:  0.7547916666666666\n"
          ],
          "name": "stdout"
        }
      ]
    },
    {
      "cell_type": "code",
      "metadata": {
        "id": "ryJ2xxF3rQqX",
        "colab": {
          "base_uri": "https://localhost:8080/",
          "height": 34
        },
        "outputId": "523bca8c-d2d3-4163-e612-3ff66a9d7489"
      },
      "source": [
        "# Create a RandomForestClassifier\n",
        "rf_clf = RandomForestClassifier(max_depth = 2, random_state=2)\n",
        "\n",
        "# Perform a 10-fold cross validation with scoring 'roc_auc'\n",
        "rf_cv_score = cross_val_score(rf_clf, X, y, cv=10, scoring='roc_auc')\n",
        "\n",
        "print(\"Mean CV Score - Random Forest: \", rf_cv_score.mean())"
      ],
      "execution_count": null,
      "outputs": [
        {
          "output_type": "stream",
          "text": [
            "Mean CV Score - Random Forest:  0.7515288978494624\n"
          ],
          "name": "stdout"
        }
      ]
    },
    {
      "cell_type": "markdown",
      "metadata": {
        "id": "0-aUo9t1rQqZ"
      },
      "source": [
        "> Next, you're going to fine-tune your rf classifier solely based on `n_estimators` hyperparameter. Depending on your computer speed, this may take a few minutes. Follow the comments in the following cell carefully, and plot the impact of n_estimators on mean cv scores. You're going to perform 10-fold cross validation. cv `scoring` will still be `roc_auc`. **Incomplete plots will get ZERO credit!**"
      ]
    },
    {
      "cell_type": "markdown",
      "metadata": {
        "id": "sLrqgpqNNICt"
      },
      "source": [
        ""
      ]
    },
    {
      "cell_type": "code",
      "metadata": {
        "id": "glXiZSJ0rQqZ",
        "colab": {
          "base_uri": "https://localhost:8080/",
          "height": 314
        },
        "outputId": "93451f98-0704-4124-aff6-44cbac6aba8e"
      },
      "source": [
        "# Now fine-tune n_estimators hyperparameter as follows:\n",
        "\n",
        "# 1- Write a for loop that iterates over n_estimators from 1 to 100\n",
        "# 2- In each iteration, do 10-fold cv and calculate rf_cv_score.mean()\n",
        "# and append it to the list rf_mean_cv_scores\n",
        "# 3- Finally, plot rf_mean_cv_scores on y-axis versus n_est_list on x-axis\n",
        "# Your plot should have the title \"Fine-tuning n_estimators\", and proper label for each axis\n",
        "rf_mean_cv_scores = []\n",
        "n_est_list = []\n",
        "for i in range(1,100):\n",
        "  rf_clf = RandomForestClassifier(n_estimators = i)\n",
        "  rf_cv_score = cross_val_score(rf_clf, X, y, cv = 10, scoring='roc_auc')\n",
        "  x = rf_cv_score.mean()\n",
        "  rf_mean_cv_scores.append(x)\n",
        "  n_est_list.append(i)\n",
        "x = n_est_list\n",
        "y = rf_mean_cv_scores\n",
        "plt.plot(x,y)\n",
        "plt.suptitle('Fine-tuning n_estimators', fontsize=20)\n",
        "plt.xlabel('n_est_list', fontsize=16)\n",
        "plt.ylabel('rf_mean_cv_scores', fontsize=16)\n",
        "plt.show()\n",
        "\n",
        "\n",
        "\n",
        "# Incomplete plots will get ZERO credit!\n",
        "# Running this cell may take a few minutes.\n"
      ],
      "execution_count": null,
      "outputs": [
        {
          "output_type": "display_data",
          "data": {
            "image/png": "[encoded data removed]",
            "text/plain": [
              "<Figure size 432x288 with 1 Axes>"
            ]
          },
          "metadata": {
            "tags": [],
            "needs_background": "light"
          }
        }
      ]
    },
    {
      "cell_type": "code",
      "metadata": {
        "id": "FU1zv6U0rQqc",
        "colab": {
          "base_uri": "https://localhost:8080/",
          "height": 170
        },
        "outputId": "d7e64bd2-2acb-4544-f40e-edf4c8f2a6f5"
      },
      "source": [
        "# Fit the rf_clf on the training set\n",
        "...\n",
        "rf_clf.fit(X_train,y_train)\n",
        "# Get feature_importances of rf for all features\n",
        "for name, score in zip(heart_data, rf_clf.feature_importances_):\n",
        "    print(name, score)"
      ],
      "execution_count": null,
      "outputs": [
        {
          "output_type": "stream",
          "text": [
            "sbp 0.08858403986360273\n",
            "tobacco 0.16724189307207607\n",
            "ldl 0.10974453513853046\n",
            "adiposity 0.11885347298640432\n",
            "famhist 0.04742364084978827\n",
            "typea 0.10213208009256357\n",
            "obesity 0.10939351496992518\n",
            "alcohol 0.08579235317340463\n",
            "age 0.17083446985370482\n"
          ],
          "name": "stdout"
        }
      ]
    },
    {
      "cell_type": "markdown",
      "metadata": {
        "id": "xCP6de6wrQqe"
      },
      "source": [
        "The provided code in the following cells show how you can plot ROC curve using fpr, tpr, and threshold returned by `metrics.roc_curve` and class probabilities using `predict_proba()` method. Notice that some classifiers don't have `predict_proba()`, and in that case you can use `decision_function()` method to get the scores."
      ]
    },
    {
      "cell_type": "code",
      "metadata": {
        "id": "ZYzebyS0rQqe"
      },
      "source": [
        "# Get class probabilities, fpr, tpr and threshold for random forest.\n",
        "rf_probs = rf_clf.predict_proba(X_test)\n",
        "rf_preds = rf_probs[:,1]\n",
        "rf_fpr, rf_tpr, rf_threshold = metrics.roc_curve(y_test, rf_preds)\n",
        "rf_roc_auc = metrics.auc(rf_fpr, rf_tpr)"
      ],
      "execution_count": null,
      "outputs": []
    },
    {
      "cell_type": "code",
      "metadata": {
        "id": "z-_UUit0rQqg",
        "colab": {
          "base_uri": "https://localhost:8080/",
          "height": 312
        },
        "outputId": "55d23cc4-4c6b-4505-a9ce-7a153254a367"
      },
      "source": [
        "# Plot ROC curve.\n",
        "plt.title('ROC')\n",
        "plt.plot(rf_fpr, rf_tpr, 'b', label = 'AUC_RF = %0.2f' % rf_roc_auc)\n",
        "plt.legend(loc = 'lower right')\n",
        "plt.plot([0, 1], [0, 1],'r--')\n",
        "plt.xlim([0, 1])\n",
        "plt.ylim([0, 1])\n",
        "plt.ylabel('True Positive Rate')\n",
        "plt.xlabel('False Positive Rate')"
      ],
      "execution_count": null,
      "outputs": [
        {
          "output_type": "execute_result",
          "data": {
            "text/plain": [
              "Text(0.5, 0, 'False Positive Rate')"
            ]
          },
          "metadata": {
            "tags": []
          },
          "execution_count": 16
        },
        {
          "output_type": "display_data",
          "data": {
            "image/png": "[encoded data removed]",
            "text/plain": [
              "<Figure size 432x288 with 1 Axes>"
            ]
          },
          "metadata": {
            "tags": [],
            "needs_background": "light"
          }
        }
      ]
    },
    {
      "cell_type": "markdown",
      "metadata": {
        "id": "l8dDr3JUrQqk"
      },
      "source": [
        "> Now, Plot ROC for all three classifiers in ONE plot with different colors, and with AUC scores shown on the `'lower right'` of the plot for each classifier."
      ]
    },
    {
      "cell_type": "markdown",
      "metadata": {
        "id": "KkDSeIVNrQql"
      },
      "source": [
        "## <font color=\"red\"> Required Coding"
      ]
    },
    {
      "cell_type": "code",
      "metadata": {
        "id": "XjBYSpTtrQql",
        "colab": {
          "base_uri": "https://localhost:8080/",
          "height": 153
        },
        "outputId": "113f22de-0563-4bb1-8005-7750027e6e84"
      },
      "source": [
        "# Fit the svm_clf and logreg_clf on the training set\n",
        "...\n",
        "svm_clf.fit(X_train,y_train)\n",
        "print(svm_clf)\n",
        "logreg_clf.fit(X_train,y_train)\n",
        "print(logreg_clf)\n"
      ],
      "execution_count": null,
      "outputs": [
        {
          "output_type": "stream",
          "text": [
            "LinearSVC(C=1.0, class_weight=None, dual=True, fit_intercept=True,\n",
            "          intercept_scaling=1, loss='squared_hinge', max_iter=1000,\n",
            "          multi_class='ovr', penalty='l2', random_state=10, tol=1e-05,\n",
            "          verbose=0)\n",
            "LogisticRegression(C=1, class_weight=None, dual=False, fit_intercept=True,\n",
            "                   intercept_scaling=1, l1_ratio=None, max_iter=100,\n",
            "                   multi_class='auto', n_jobs=1, penalty='l2', random_state=1,\n",
            "                   solver='liblinear', tol=0.0001, verbose=0, warm_start=False)\n"
          ],
          "name": "stdout"
        }
      ]
    },
    {
      "cell_type": "code",
      "metadata": {
        "id": "exsmdRBArQqo",
        "colab": {
          "base_uri": "https://localhost:8080/",
          "height": 312
        },
        "outputId": "da3393d1-f693-40eb-927d-607165c001a5"
      },
      "source": [
        "# Plot ROC for all three classifiers with different colors in one plot,\n",
        "# and with AUC scores shown on the 'lower right' of the plot.\n",
        "\n",
        "# Plot should have title and axis lables.\n",
        "\n",
        "# Write as many number of lines of code as needed.\n",
        "\n",
        "\n",
        "logreg_probs = logreg_clf.predict_proba(X_test)\n",
        "logreg_preds = logreg_probs[:,1]\n",
        "logreg_fpr, logreg_tpr, logreg_threshold = metrics.roc_curve(y_test, logreg_preds)\n",
        "logreg_roc_auc = metrics.auc(logreg_fpr, logreg_tpr)\n",
        "\n",
        "svm_probs = svm_clf.decision_function(X_test)\n",
        "svm_preds = svm_probs[:]\n",
        "svm_fpr, svm_tpr, svm_threshold = metrics.roc_curve(y_test, svm_preds)\n",
        "svm_roc_auc = metrics.auc(svm_fpr, svm_tpr)\n",
        "\n",
        "plt.title('ROC Three Classifiers')\n",
        "plt.plot(rf_fpr, rf_tpr, 'b', label = 'AUC_RF = %0.20f' % rf_roc_auc)\n",
        "plt.plot(logreg_fpr, logreg_tpr, 'r', label = 'AUC_LogR = %0.20f' % logreg_roc_auc)\n",
        "plt.plot(svm_fpr, svm_tpr, 'g', label = 'AUC_SVM = %0.20f' % svm_roc_auc)\n",
        "plt.legend(loc = 'lower right')\n",
        "plt.plot([0, 1], [0, 1],'y--')\n",
        "plt.xlim([0, 1])\n",
        "plt.ylim([0, 1])\n",
        "plt.ylabel('True Positive Rate')\n",
        "plt.xlabel('False Positive Rate')\n",
        "\n",
        "# Hint1: You may use the code for random forest ROC curve,\n",
        "# and use different names for different variables of each classifier.\n",
        "\n",
        "# Hint2: LinearSVC doesn't have predict_proba() method,\n",
        "# instead, you should directly use decision_function() method to compute svm_preds\n",
        "\n",
        "..."
      ],
      "execution_count": null,
      "outputs": [
        {
          "output_type": "execute_result",
          "data": {
            "text/plain": [
              "Ellipsis"
            ]
          },
          "metadata": {
            "tags": []
          },
          "execution_count": 18
        },
        {
          "output_type": "display_data",
          "data": {
            "image/png": "[encoded data removed]",
            "text/plain": [
              "<Figure size 432x288 with 1 Axes>"
            ]
          },
          "metadata": {
            "tags": [],
            "needs_background": "light"
          }
        }
      ]
    },
    {
      "cell_type": "markdown",
      "metadata": {
        "id": "tiXJjHDFrQqq"
      },
      "source": [
        "## Part I Questions"
      ]
    },
    {
      "cell_type": "markdown",
      "metadata": {
        "id": "tGGLXSwirQqq"
      },
      "source": [
        "Answer the following questions HERE:\n",
        "\n",
        "**Q1 (5 points)** - Which classifier has a better performace according to ROC curves above? Which one is the 2nd best according to ROC plot?\n",
        "AUC_LogR has the best performance\n",
        "AUC_SVM is 2nd best\n",
        "\n",
        "\n",
        "**Q2 (5 points)** - What is the most important feature of this dataset for the random forest classifier? <b>Hint:</b> Check back the previous cells where you get them!\n",
        "Age is the most important because it has the highest percentage. 0.16\n",
        "\n",
        "**Q3 (5 points)** - According to the fine-tuning plot of `n_estimators`, what is an appropriate range for `n_estimators`. You should GIVE A COMPLETE ANSWER based on your plot results, and make reasonable arguments. Incomplete answers will get ZERO credit! An appropriate range would be 40-60. Since after 60 is does become more accurate by 1% or so. Adding more estimators will make it more accurate however it will be slower to run. As well as the peaks and valleys are not too far apart. "
      ]
    },
    {
      "cell_type": "markdown",
      "metadata": {
        "id": "uJmqjVGprQqr"
      },
      "source": [
        "## Part II - Regression"
      ]
    },
    {
      "cell_type": "markdown",
      "metadata": {
        "id": "lAFvvP5QrQqr"
      },
      "source": [
        "In this part, you review some of the concepts discussed in regression.\n",
        "\n",
        "First, solve the following regression problem using closed form solution (normal equation). "
      ]
    },
    {
      "cell_type": "markdown",
      "metadata": {
        "id": "gscvq4_8rQqr"
      },
      "source": [
        "You're going to generate some data and then use closed-form solution for linear regression to fit the data."
      ]
    },
    {
      "cell_type": "markdown",
      "metadata": {
        "id": "lNqr7GFfrQqs"
      },
      "source": [
        "Generate data points based on the following linear equation added by [the noise with “standard normal” distribution](https://docs.scipy.org/doc/numpy-1.15.1/reference/generated/numpy.random.randn.html). You may refer to the slides/textbook code snippets.\n",
        "\n",
        "$$y = 5 + 6X + Gaussian Noise$$"
      ]
    },
    {
      "cell_type": "markdown",
      "metadata": {
        "id": "ayMLNQRPrQqt"
      },
      "source": [
        "## <font color=\"red\"> Required Coding"
      ]
    },
    {
      "cell_type": "code",
      "metadata": {
        "id": "mPIzXd04rQqt",
        "colab": {
          "base_uri": "https://localhost:8080/",
          "height": 51
        },
        "outputId": "4170b21f-a8a5-48f2-a5bd-547cdabe3df8"
      },
      "source": [
        "import numpy as np\n",
        "X = 2 * np.random.rand(100, 1)\n",
        "mu, sigma = 0, 0.1\n",
        "GNoise = sigma * np.random.randn() + mu\n",
        "# Compute y based on the linear equation given above and add random gaussian noise\n",
        "y = 5 + 6*X + GNoise\n",
        "\n",
        "print(X[0])\n",
        "print(y[0])"
      ],
      "execution_count": null,
      "outputs": [
        {
          "output_type": "stream",
          "text": [
            "[1.68236544]\n",
            "[15.12748972]\n"
          ],
          "name": "stdout"
        }
      ]
    },
    {
      "cell_type": "code",
      "metadata": {
        "id": "pIwhpAlcrQqv",
        "colab": {
          "base_uri": "https://localhost:8080/",
          "height": 308
        },
        "outputId": "8554584b-6488-492a-d235-08e778e349d4"
      },
      "source": [
        "plt.plot(X, y, \"b.\")\n",
        "plt.xlabel(\"$x_1$\", fontsize=18)\n",
        "plt.ylabel(\"$y$\", rotation=0, fontsize=18)\n",
        "plt.axis([0, 2.2, 0, 18])"
      ],
      "execution_count": null,
      "outputs": [
        {
          "output_type": "execute_result",
          "data": {
            "text/plain": [
              "(0.0, 2.2, 0.0, 18.0)"
            ]
          },
          "metadata": {
            "tags": []
          },
          "execution_count": 20
        },
        {
          "output_type": "display_data",
          "data": {
            "image/png": "[encoded data removed]",
            "text/plain": [
              "<Figure size 432x288 with 1 Axes>"
            ]
          },
          "metadata": {
            "tags": [],
            "needs_background": "light"
          }
        }
      ]
    },
    {
      "cell_type": "code",
      "metadata": {
        "id": "8pjAQV4erQqy",
        "colab": {
          "base_uri": "https://localhost:8080/",
          "height": 51
        },
        "outputId": "d0b427c7-4ed3-4320-866a-0f4d0aaae988"
      },
      "source": [
        "# add x0 = 1 to each instance using np.c_\n",
        "X_b = np.c_[np.ones((100,1)), X]\n",
        "\n",
        "# Compute theta_best using normal equation\n",
        "theta_best = np.linalg.inv(X_b.T.dot(X_b)).dot(X_b.T).dot(y)\n",
        "\n",
        "theta_best"
      ],
      "execution_count": null,
      "outputs": [
        {
          "output_type": "execute_result",
          "data": {
            "text/plain": [
              "array([[5.0332971],\n",
              "       [6.       ]])"
            ]
          },
          "metadata": {
            "tags": []
          },
          "execution_count": 21
        }
      ]
    },
    {
      "cell_type": "code",
      "metadata": {
        "id": "BZ26ngqyrQq0",
        "colab": {
          "base_uri": "https://localhost:8080/",
          "height": 51
        },
        "outputId": "79f09bb6-e8b9-42a5-bf7b-c9a03bb90700"
      },
      "source": [
        "X_new = np.array([[0], [2]])\n",
        "X_new_b = np.c_[np.ones((2, 1)), X_new]\n",
        "X_new_b"
      ],
      "execution_count": null,
      "outputs": [
        {
          "output_type": "execute_result",
          "data": {
            "text/plain": [
              "array([[1., 0.],\n",
              "       [1., 2.]])"
            ]
          },
          "metadata": {
            "tags": []
          },
          "execution_count": 22
        }
      ]
    },
    {
      "cell_type": "code",
      "metadata": {
        "id": "hsdZLcEDrQq3",
        "colab": {
          "base_uri": "https://localhost:8080/",
          "height": 51
        },
        "outputId": "acd079ab-3fc8-4023-91f8-f1f5c43372b3"
      },
      "source": [
        "# Make predictions on new data by computing the dot product of X_new_b and theta_best\n",
        "y_predict = X_new_b.dot(theta_best)\n",
        "\n",
        "y_predict"
      ],
      "execution_count": null,
      "outputs": [
        {
          "output_type": "execute_result",
          "data": {
            "text/plain": [
              "array([[ 5.0332971],\n",
              "       [17.0332971]])"
            ]
          },
          "metadata": {
            "tags": []
          },
          "execution_count": 23
        }
      ]
    },
    {
      "cell_type": "code",
      "metadata": {
        "id": "9G7jF968rQq5",
        "colab": {
          "base_uri": "https://localhost:8080/",
          "height": 308
        },
        "outputId": "69d82dbd-820e-4db3-a49f-5b826de17a10"
      },
      "source": [
        "plt.plot(X_new, y_predict, \"r-\", linewidth=2, label=\"Predictions\")\n",
        "plt.plot(X, y, \"b.\")\n",
        "plt.xlabel(\"$x_1$\", fontsize=18)\n",
        "plt.ylabel(\"$y$\", rotation=0, fontsize=18)\n",
        "plt.legend(loc=\"upper left\", fontsize=14)\n",
        "plt.axis([0, 2.2, 0, 18])"
      ],
      "execution_count": null,
      "outputs": [
        {
          "output_type": "execute_result",
          "data": {
            "text/plain": [
              "(0.0, 2.2, 0.0, 18.0)"
            ]
          },
          "metadata": {
            "tags": []
          },
          "execution_count": 24
        },
        {
          "output_type": "display_data",
          "data": {
            "image/png": "[encoded data removed]",
            "text/plain": [
              "<Figure size 432x288 with 1 Axes>"
            ]
          },
          "metadata": {
            "tags": [],
            "needs_background": "light"
          }
        }
      ]
    },
    {
      "cell_type": "markdown",
      "metadata": {
        "id": "DpuEP22xrQq7"
      },
      "source": [
        "> Next, run the cell below. Then answer the following questions."
      ]
    },
    {
      "cell_type": "code",
      "metadata": {
        "id": "2juy_d35rQq7",
        "colab": {
          "base_uri": "https://localhost:8080/",
          "height": 348
        },
        "outputId": "e69de27c-e839-4d7c-c860-6792534f4a26"
      },
      "source": [
        "import numpy as np\n",
        "from sklearn.pipeline import Pipeline\n",
        "from sklearn.preprocessing import PolynomialFeatures\n",
        "from sklearn.linear_model import LinearRegression\n",
        "\n",
        "\n",
        "def true_fun(X):\n",
        "    return np.cos(1.5 * np.pi * X)\n",
        "\n",
        "np.random.seed(0)\n",
        "\n",
        "n_samples = 30\n",
        "degrees = [1, 4, 15]\n",
        "\n",
        "X = np.sort(np.random.rand(n_samples))\n",
        "y = true_fun(X) + np.random.randn(n_samples) * 0.1\n",
        "\n",
        "plt.figure(figsize=(14, 5))\n",
        "for i in range(len(degrees)):\n",
        "    ax = plt.subplot(1, len(degrees), i + 1)\n",
        "    plt.setp(ax, xticks=(), yticks=())\n",
        "\n",
        "    polynomial_features = PolynomialFeatures(degree=degrees[i],\n",
        "                                             include_bias=False)\n",
        "    linear_regression = LinearRegression()\n",
        "    pipeline = Pipeline([(\"polynomial_features\", polynomial_features),\n",
        "                         (\"linear_regression\", linear_regression)])\n",
        "    pipeline.fit(X[:, np.newaxis], y)\n",
        "\n",
        "    # Evaluate the models using cross validation\n",
        "    scores = cross_val_score(pipeline, X[:, np.newaxis], y,\n",
        "                             scoring=\"neg_mean_squared_error\", cv=10)\n",
        "                             #scoring=\"explained_variance\", cv=10)\n",
        "                             #scoring=\"neg_root_mean_squared_error\", cv=10)\n",
        "\n",
        "    X_test = np.linspace(0, 1, 100)\n",
        "    plt.plot(X_test, pipeline.predict(X_test[:, np.newaxis]), label=\"Model\")\n",
        "    plt.plot(X_test, true_fun(X_test), label=\"True function\")\n",
        "    plt.scatter(X, y, edgecolor='b', s=20, label=\"Samples\")\n",
        "    plt.xlabel(\"x\")\n",
        "    plt.ylabel(\"y\")\n",
        "    plt.xlim((0, 1))\n",
        "    plt.ylim((-2, 2))\n",
        "    plt.legend(loc=\"best\")\n",
        "    plt.title(\"Degree {}\\nMSE = {:.2e}(+/- {:.2e})\".format(\n",
        "        degrees[i], -scores.mean(), scores.std()))\n",
        "plt.show()"
      ],
      "execution_count": null,
      "outputs": [
        {
          "output_type": "display_data",
          "data": {
            "image/png": "[encoded data removed]",
            "text/plain": [
              "<Figure size 1008x360 with 3 Axes>"
            ]
          },
          "metadata": {
            "tags": []
          }
        }
      ]
    }
  ]
}
